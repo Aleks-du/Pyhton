{
 "cells": [
  {
   "cell_type": "markdown",
   "metadata": {},
   "source": []
  },
  {
   "cell_type": "code",
   "execution_count": 5,
   "metadata": {},
   "outputs": [
    {
     "name": "stdout",
     "output_type": "stream",
     "text": [
      "Помоги мне найди длину третьей стороны произвольного треугольника по двум его сторонам и углу между ними\n",
      "Введи длину одной стороны треугольника: 40\n",
      "А теперь нужно ввести длину другой сторону треугольника: 80\n",
      "А какой угол в данном треугольнике, выбор за тобой: 42\n",
      "Спасибо, ты мне очень помог, длина третьей стороны: 56.955009586029185\n"
     ]
    }
   ],
   "source": [
    "import math\n",
    "print(\"Помоги мне найди длину третьей стороны произвольного треугольника по двум его сторонам и углу между ними\")\n",
    "a = input('Введи длину одной стороны треугольника: ')\n",
    "b = input('А теперь нужно ввести длину другой сторону треугольника: ')\n",
    "e = input('А какой угол в данном треугольнике, выбор за тобой: ')\n",
    "\n",
    "a = int(a)\n",
    "b = int(b)\n",
    "e = int(e)\n",
    "n = 0\n",
    "n = float(n)\n",
    "\n",
    "n = e * math.pi / 180\n",
    "c = math.cos(n)\n",
    "c = math.sqrt(a**2 + b**2 - 2*a*b*math.cos(n))\n",
    "c = print(\"Спасибо, ты мне очень помог, длина третьей стороны:\", c)"
   ]
  },
  {
   "cell_type": "code",
   "execution_count": null,
   "metadata": {},
   "outputs": [],
   "source": []
  },
  {
   "cell_type": "code",
   "execution_count": null,
   "metadata": {},
   "outputs": [],
   "source": []
  }
 ],
 "metadata": {
  "kernelspec": {
   "display_name": "Python 3",
   "language": "python",
   "name": "python3"
  },
  "language_info": {
   "codemirror_mode": {
    "name": "ipython",
    "version": 3
   },
   "file_extension": ".py",
   "mimetype": "text/x-python",
   "name": "python",
   "nbconvert_exporter": "python",
   "pygments_lexer": "ipython3",
   "version": "3.8.3"
  }
 },
 "nbformat": 4,
 "nbformat_minor": 4
}
